{
 "cells": [
  {
   "cell_type": "markdown",
   "metadata": {},
   "source": [
    "## Gemma"
   ]
  },
  {
   "cell_type": "code",
   "execution_count": 1,
   "metadata": {},
   "outputs": [
    {
     "name": "stderr",
     "output_type": "stream",
     "text": [
      "/Users/kevinbuhler/Code/qlearn/gemma_hf/lib/python3.11/site-packages/tqdm/auto.py:21: TqdmWarning: IProgress not found. Please update jupyter and ipywidgets. See https://ipywidgets.readthedocs.io/en/stable/user_install.html\n",
      "  from .autonotebook import tqdm as notebook_tqdm\n"
     ]
    }
   ],
   "source": [
    "import torch\n",
    "from transformers import AutoTokenizer, AutoModelForCausalLM, TextStreamer"
   ]
  },
  {
   "cell_type": "code",
   "execution_count": 2,
   "metadata": {},
   "outputs": [
    {
     "name": "stderr",
     "output_type": "stream",
     "text": [
      "Loading checkpoint shards: 100%|██████████| 2/2 [00:04<00:00,  2.34s/it]\n"
     ]
    }
   ],
   "source": [
    "tokenizer = AutoTokenizer.from_pretrained(\"google/gemma-2b-it\", add_special_tokens=False)\n",
    "model = AutoModelForCausalLM.from_pretrained(\"google/gemma-2b-it\", torch_dtype=torch.float16)"
   ]
  },
  {
   "cell_type": "code",
   "execution_count": 3,
   "metadata": {},
   "outputs": [
    {
     "data": {
      "text/plain": [
       "'Julie is reading a 120-page book. Yesterday, she was able to read 12 pages and today, she read twice as many pages as yesterday. If she wants to read half of the remaining pages tomorrow, how many pages should she read?'"
      ]
     },
     "execution_count": 3,
     "metadata": {},
     "output_type": "execute_result"
    }
   ],
   "source": [
    "bob = {\"question\": \"Julie is reading a 120-page book. Yesterday, she was able to read 12 pages and today, she read twice as many pages as yesterday. If she wants to read half of the remaining pages tomorrow, how many pages should she read?\", \"answer\": \"Maila read 12 x 2 = <<12*2=24>>24 pages today.\\nSo she was able to read a total of 12 + 24 = <<12+24=36>>36 pages since yesterday.\\nThere are 120 - 36 = <<120-36=84>>84 pages left to be read.\\nSince she wants to read half of the remaining pages tomorrow, then she should read 84/2 = <<84/2=42>>42 pages.\\n#### 42\"}\n",
    "question = bob['question']\n",
    "question"
   ]
  },
  {
   "cell_type": "code",
   "execution_count": 5,
   "metadata": {},
   "outputs": [
    {
     "name": "stdout",
     "output_type": "stream",
     "text": [
      "------------------\n",
      "iter 0\n",
      "MODEL OUTPUT:\n",
      "<bos>ONLY DO ONE STEP OF THE PROBLEM THEN STOP!!!. If you have a solution, say 'DONE'.N/AANSWER THIS QUESTION:Julie is reading a 120-page book. Yesterday, she was able to read 12 pages and today, she read twice as many pages as yesterday. If she wants to read half of the remaining pages tomorrow, how many pages should she read?\n",
      "\n",
      "**SOLUTION:**\n",
      "\n",
      "If Julie read twice as many pages yesterday as she did today, then she read 2 * 12 = 24 pages yesterday.\n",
      "\n",
      "If she wants to read half of the remaining pages tomorrow, then she needs to read 120 - 24 = 96 pages tomorrow.<eos>\n",
      "------------------\n",
      "------------------\n",
      "iter 1\n",
      "MODEL OUTPUT:\n",
      "<bos>ONLY DO ONE STEP OF THE PROBLEM THEN STOP!!!. If you have a solution, say 'DONE'.<bos>ONLY DO ONE STEP OF THE PROBLEM THEN STOP!!!. If you have a solution, say 'DONE'.N/AANSWER THIS QUESTION:Julie is reading a 120-page book. Yesterday, she was able to read 12 pages and today, she read twice as many pages as yesterday. If she wants to read half of the remaining pages tomorrow, how many pages should she read?\n",
      "\n",
      "**SOLUTION:**\n",
      "\n",
      "If Julie read twice as many pages yesterday as she did today, then she read 2 * 12 = 24 pages yesterday.\n",
      "\n",
      "If she wants to read half of the remaining pages tomorrow, then she needs to read 120 - 24 = 96 pages tomorrow.<eos>ANSWER THIS QUESTION:Julie is reading a 120-page book. Yesterday, she was able to read 12 pages and today, she read twice as many pages as yesterday. If she wants to read half of the remaining pages tomorrow, how many pages should she read?\n",
      "\n",
      "**SOLUTION:**\n",
      "\n",
      "If Julie read twice as many pages yesterday as she did today, then she read 2 * 12 = 24 pages yesterday.\n",
      "\n",
      "If she wants to read half of the remaining pages tomorrow, then she needs to read 120 - 24 = 96 pages tomorrow.<eos>\n",
      "------------------\n",
      "------------------\n",
      "iter 2\n",
      "MODEL OUTPUT:\n",
      "<bos>ONLY DO ONE STEP OF THE PROBLEM THEN STOP!!!. If you have a solution, say 'DONE'.<bos>ONLY DO ONE STEP OF THE PROBLEM THEN STOP!!!. If you have a solution, say 'DONE'.<bos>ONLY DO ONE STEP OF THE PROBLEM THEN STOP!!!. If you have a solution, say 'DONE'.N/AANSWER THIS QUESTION:Julie is reading a 120-page book. Yesterday, she was able to read 12 pages and today, she read twice as many pages as yesterday. If she wants to read half of the remaining pages tomorrow, how many pages should she read?\n",
      "\n",
      "**SOLUTION:**\n",
      "\n",
      "If Julie read twice as many pages yesterday as she did today, then she read 2 * 12 = 24 pages yesterday.\n",
      "\n",
      "If she wants to read half of the remaining pages tomorrow, then she needs to read 120 - 24 = 96 pages tomorrow.<eos>ANSWER THIS QUESTION:Julie is reading a 120-page book. Yesterday, she was able to read 12 pages and today, she read twice as many pages as yesterday. If she wants to read half of the remaining pages tomorrow, how many pages should she read?\n",
      "\n",
      "**SOLUTION:**\n",
      "\n",
      "If Julie read twice as many pages yesterday as she did today, then she read 2 * 12 = 24 pages yesterday.\n",
      "\n",
      "If she wants to read half of the remaining pages tomorrow, then she needs to read 120 - 24 = 96 pages tomorrow.<eos>ANSWER THIS QUESTION:Julie is reading a 120-page book. Yesterday, she was able to read 12 pages and today, she read twice as many pages as yesterday. If she wants to read half of the remaining pages tomorrow, how many pages should she read?\n",
      "\n",
      "**SOLUTION:**\n",
      "\n",
      "If Julie read twice as many pages yesterday as she did today, then she read 2 * 12 = 24 pages yesterday.\n",
      "\n",
      "If she wants to read half of the remaining pages tomorrow, then she needs to read 120 - 24 = 96 pages tomorrow.<eos>\n",
      "------------------\n",
      "------------------\n",
      "iter 3\n"
     ]
    }
   ],
   "source": [
    "previous_prompts = [\"N/A\"]\n",
    "for i in range(10):\n",
    "  print(\"------------------\")\n",
    "  print(\"iter\", i)\n",
    "  prev = previous_prompts[-1]\n",
    "  input_text = \"ONLY DO ONE STEP OF THE PROBLEM THEN STOP!!!. If you have a solution, say 'DONE'.\" + prev + \"ANSWER THIS QUESTION:\" + question\n",
    "  input_ids = tokenizer(input_text, return_tensors=\"pt\")\n",
    "  outputs = model.generate(**input_ids, max_new_tokens=500)\n",
    "  output = tokenizer.decode(outputs[0])\n",
    "  print(\"MODEL OUTPUT:\")\n",
    "  print(output)\n",
    "  previous_prompts.append(output)\n",
    "  print(\"------------------\")\n"
   ]
  },
  {
   "cell_type": "code",
   "execution_count": null,
   "metadata": {},
   "outputs": [],
   "source": []
  },
  {
   "cell_type": "code",
   "execution_count": null,
   "metadata": {},
   "outputs": [],
   "source": []
  }
 ],
 "metadata": {
  "kernelspec": {
   "display_name": "gemma_hf",
   "language": "python",
   "name": "python3"
  },
  "language_info": {
   "codemirror_mode": {
    "name": "ipython",
    "version": 3
   },
   "file_extension": ".py",
   "mimetype": "text/x-python",
   "name": "python",
   "nbconvert_exporter": "python",
   "pygments_lexer": "ipython3",
   "version": "3.11.3"
  }
 },
 "nbformat": 4,
 "nbformat_minor": 2
}
