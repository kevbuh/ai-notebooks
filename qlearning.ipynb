{
 "cells": [
  {
   "cell_type": "markdown",
   "metadata": {},
   "source": [
    "Messing around with q-learning\n",
    "\n",
    "https://blog.floydhub.com/an-introduction-to-q-learning-reinforcement-learning/"
   ]
  },
  {
   "cell_type": "code",
   "execution_count": null,
   "metadata": {},
   "outputs": [],
   "source": [
    "import numpy as np\n",
    "\n",
    "class QAgent:\n",
    "  def __init__(self, alpha, gamma, location_to_state, actions, rewards, state_to_location, Q):  \n",
    "    self.gamma = gamma  \n",
    "    self.alpha = alpha \n",
    "\n",
    "    self.location_to_state = location_to_state\n",
    "    self.actions = actions\n",
    "    self.rewards = rewards\n",
    "    self.state_to_location = state_to_location\n",
    "\n",
    "    self.Q = Q\n",
    "\n",
    "  def training(self, start_location, end_location, iterations):\n",
    "\n",
    "    rewards_new = np.copy(self.rewards)\n",
    "\n",
    "    ending_state = self.location_to_state[end_location]\n",
    "    rewards_new[ending_state, ending_state] = 999\n",
    "\n",
    "    for i in range(iterations):\n",
    "        current_state = np.random.randint(0,9) \n",
    "        playable_actions = []\n",
    "\n",
    "        for j in range(9):\n",
    "            if rewards_new[current_state,j] > 0:\n",
    "                playable_actions.append(j)\n",
    "\n",
    "        next_state = np.random.choice(playable_actions)\n",
    "        TD = rewards_new[current_state,next_state] + self.gamma * self.Q[next_state, np.argmax(self.Q[next_state,])] -                                 self.Q[current_state,next_state]\n",
    "\n",
    "        self.Q[current_state,next_state] += self.alpha * TD\n",
    "\n",
    "    route = [start_location]\n",
    "    next_location = start_location\n",
    "\n",
    "    # Get the route \n",
    "    self.get_optimal_route(start_location, end_location, next_location, route, self.Q)\n",
    "\n",
    "  def get_optimal_route(self, start_location, end_location, next_location, route, Q):\n",
    "    while(next_location != end_location):\n",
    "        starting_state = self.location_to_state[start_location]\n",
    "        next_state = np.argmax(Q[starting_state,])\n",
    "        next_location = self.state_to_location[next_state]\n",
    "        route.append(next_location)\n",
    "        start_location = next_location\n",
    "\n",
    "    print(\"QAgent optimal route:\", route)\n",
    "\n",
    "\n",
    "# Define the states\n",
    "location_to_state = {\n",
    "    'L1' : 0,\n",
    "    'L2' : 1,\n",
    "    'L3' : 2,\n",
    "    'L4' : 3,\n",
    "    'L5' : 4,\n",
    "    'L6' : 5,\n",
    "    'L7' : 6,\n",
    "    'L8' : 7,\n",
    "    'L9' : 8\n",
    "}\n",
    "\n",
    "# Define the actions\n",
    "actions = [0,1,2,3,4,5,6,7,8]\n",
    "\n",
    "# Define the rewards\n",
    "rewards = np.array([[0,1,0,0,0,0,0,0,0],\n",
    "              [1,0,1,0,1,0,0,0,0],\n",
    "              [0,1,0,0,0,1,0,0,0],\n",
    "              [0,0,0,0,0,0,1,0,0],\n",
    "              [0,1,0,0,0,0,0,1,0],\n",
    "              [0,0,1,0,0,0,0,0,0],\n",
    "              [0,0,0,1,0,0,0,1,0],\n",
    "              [0,0,0,0,1,0,1,0,1],\n",
    "              [0,0,0,0,0,0,0,1,0]])\n",
    "\n",
    "# Maps indices to locations\n",
    "state_to_location = dict((state,location) for location,state in location_to_state.items())\n",
    "state_to_location\n",
    "\n",
    "# Initialize parameters\n",
    "gamma = 0.75 # Discount factor \n",
    "alpha = 0.9 # Learning rate \n",
    "Q = np.array(np.zeros([9,9]))\n",
    "\n",
    "qagent = QAgent(alpha, gamma, location_to_state, actions, rewards,  state_to_location, Q)\n",
    "qagent.training('L9', 'L1', 1000)\n",
    "\n",
    "print(\"\")\n",
    "print(\"Final Q-Table\", qagent.Q)\n",
    "print(\"\")"
   ]
  },
  {
   "cell_type": "markdown",
   "metadata": {},
   "source": [
    "## Me messing around below"
   ]
  },
  {
   "cell_type": "code",
   "execution_count": 6,
   "metadata": {},
   "outputs": [],
   "source": [
    "# Define the states\n",
    "location_to_state = {\n",
    "    'L1' : 0,\n",
    "    'L2' : 1,\n",
    "    'L3' : 2,\n",
    "    'L4' : 3,\n",
    "    'L5' : 4,\n",
    "    'L6' : 5,\n",
    "    'L7' : 6,\n",
    "    'L8' : 7,\n",
    "    'L9' : 8\n",
    "}\n",
    "\n",
    "# Define the actions\n",
    "actions = [0,1,2,3,4,5,6,7,8]\n",
    "\n",
    "# Define the rewards\n",
    "rewards = np.array([[0,1,0,0,0,0,0,0,0],\n",
    "              [1,0,1,0,1,0,0,0,0],\n",
    "              [0,1,0,0,0,1,0,0,0],\n",
    "              [0,0,0,0,0,0,1,0,0],\n",
    "              [0,1,0,0,0,0,0,1,0],\n",
    "              [0,0,1,0,0,0,0,0,0],\n",
    "              [0,0,0,1,0,0,0,1,0],\n",
    "              [0,0,0,0,1,0,1,0,1],\n",
    "              [0,0,0,0,0,0,0,1,0]])"
   ]
  },
  {
   "cell_type": "code",
   "execution_count": 7,
   "metadata": {},
   "outputs": [
    {
     "data": {
      "text/plain": [
       "{0: 'L1',\n",
       " 1: 'L2',\n",
       " 2: 'L3',\n",
       " 3: 'L4',\n",
       " 4: 'L5',\n",
       " 5: 'L6',\n",
       " 6: 'L7',\n",
       " 7: 'L8',\n",
       " 8: 'L9'}"
      ]
     },
     "execution_count": 7,
     "metadata": {},
     "output_type": "execute_result"
    }
   ],
   "source": [
    "# Maps indices to locations\n",
    "state_to_location = dict((state,location) for location,state in location_to_state.items())\n",
    "state_to_location"
   ]
  },
  {
   "cell_type": "code",
   "execution_count": 8,
   "metadata": {},
   "outputs": [],
   "source": [
    "# Initialize parameters\n",
    "gamma = 0.75 # Discount factor \n",
    "alpha = 0.9 # Learning rate "
   ]
  },
  {
   "cell_type": "code",
   "execution_count": 9,
   "metadata": {},
   "outputs": [],
   "source": [
    "# def get_optimal_route():\n",
    "# Initializing Q-Values\n",
    "Q = np.array(np.zeros([9,9]))\n",
    "\n",
    "# Copy the rewards matrix to new Matrix\n",
    "rewards_copy = np.copy(rewards)"
   ]
  },
  {
   "cell_type": "code",
   "execution_count": 10,
   "metadata": {},
   "outputs": [],
   "source": [
    "# # Get the ending state corresponding to the ending location as given\n",
    "# ending_state = location_to_state[end_location]\n",
    "\n",
    "# # With the above information automatically set the priority of the\n",
    "# # given ending state to the highest one\n",
    "# rewards_copy[ending_state,ending_state] = 999"
   ]
  },
  {
   "cell_type": "code",
   "execution_count": 11,
   "metadata": {},
   "outputs": [],
   "source": [
    "for i in range(1000):\n",
    "    # Pick up a state randomly\n",
    "    current_state = np.random.randint(0,9)"
   ]
  },
  {
   "cell_type": "code",
   "execution_count": 12,
   "metadata": {},
   "outputs": [],
   "source": [
    "playable_actions = []\n",
    "# Iterate through the new rewards matrix and get the actions > 0\n",
    "for j in range(9):\n",
    "    if rewards_copy[current_state,j] > 0:\n",
    "        playable_actions.append(j)\n",
    "\n",
    "# Pick an action randomly from the list of playable actions leading us to the next \n",
    "# state\n",
    "next_state = np.random.choice(playable_actions)"
   ]
  },
  {
   "cell_type": "code",
   "execution_count": 13,
   "metadata": {},
   "outputs": [],
   "source": [
    "# Compute the temporal difference\n",
    "# The action here exactly refers to going to the next state\n",
    "TD = rewards_copy[current_state,next_state] + gamma * Q[next_state, np.argmax(Q[next_state,])] - Q[current_state,next_state]\n",
    "\n",
    "# Update the Q-Value using the Bellman equation\n",
    "Q[current_state,next_state] += alpha * TD"
   ]
  },
  {
   "cell_type": "code",
   "execution_count": 14,
   "metadata": {},
   "outputs": [],
   "source": [
    "# # Initialize the optimal route with the starting location\n",
    "# route = [start_location]\n",
    "# next_location = start_location"
   ]
  },
  {
   "cell_type": "code",
   "execution_count": 15,
   "metadata": {},
   "outputs": [],
   "source": [
    "# # We don't know about the exact number of iterations needed to reach to the final \n",
    "# # location hence while loop will be a good choice for iterating\n",
    "# while(next_location != end_location):\n",
    "#     # Fetch the starting state\n",
    "#     starting_state = location_to_state[start_location]\n",
    "#     # Fetch the highest Q-value pertaining to starting state\n",
    "#     next_state = np.argmax(Q[starting_state,])\n",
    "#     # We got the index of the next state. But we need the corresponding letter. \n",
    "#     next_location = state_to_location[next_state]\n",
    "#     route.append(next_location)\n",
    "#     # Update the starting location for the next iteration\n",
    "#     start_location = next_location\n",
    "\n",
    "# route"
   ]
  },
  {
   "cell_type": "code",
   "execution_count": 16,
   "metadata": {},
   "outputs": [],
   "source": [
    "def get_optimal_route(start_location,end_location):\n",
    "    # Copy the rewards matrix to new Matrix\n",
    "    rewards_new = np.copy(rewards)\n",
    "    \n",
    "    # Get the ending state corresponding to the ending location as given\n",
    "    ending_state = location_to_state[end_location]\n",
    "    \n",
    "    # With the above information automatically set the priority of  \n",
    "    # the given ending state to the highest one\n",
    "    rewards_new[ending_state,ending_state] = 999\n",
    "\n",
    "    # -----------Q-Learning algorithm-----------\n",
    "   \n",
    "    # Initializing Q-Values\n",
    "    Q = np.array(np.zeros([9,9]))\n",
    "\n",
    "    # Q-Learning process\n",
    "    for i in range(1000):\n",
    "        # Pick up a state randomly\n",
    "        current_state = np.random.randint(0,9) # Python excludes the upper bound\n",
    "        \n",
    "        # For traversing through the neighbor locations in the maze\n",
    "        playable_actions = []\n",
    "        \n",
    "        # Iterate through the new rewards matrix and get the actions > 0\n",
    "        for j in range(9):\n",
    "            if rewards_new[current_state,j] > 0:\n",
    "                playable_actions.append(j)\n",
    "        \n",
    "        # Pick an action randomly from the list of playable actions  \n",
    "        # leading us to the next state\n",
    "        next_state = np.random.choice(playable_actions)\n",
    "        \n",
    "        # Compute the temporal difference\n",
    "        # The action here exactly refers to going to the next state\n",
    "        TD = rewards_new[current_state,next_state] + gamma * Q[next_state,                         np.argmax(Q[next_state,])] - Q[current_state,next_state]\n",
    "        \n",
    "        # Update the Q-Value using the Bellman equation\n",
    "        Q[current_state,next_state] += alpha * TD\n",
    "\n",
    "    # Initialize the optimal route with the starting location\n",
    "    route = [start_location]\n",
    "    # We do not know about the next location yet, so initialize with the value of \n",
    "    # starting location\n",
    "    next_location = start_location\n",
    "    \n",
    "    # We don't know about the exact number of iterations\n",
    "    # needed to reach to the final location hence while loop will be a good choice \n",
    "    # for iteratiing\n",
    "    \n",
    "    while(next_location != end_location):\n",
    "        # Fetch the starting state\n",
    "        starting_state = location_to_state[start_location]\n",
    "        \n",
    "        # Fetch the highest Q-value pertaining to starting state\n",
    "        next_state = np.argmax(Q[starting_state,])\n",
    "        \n",
    "        # We got the index of the next state. But we need the corresponding letter. \n",
    "        next_location = state_to_location[next_state]\n",
    "        route.append(next_location)\n",
    "        \n",
    "        # Update the starting location for the next iteration\n",
    "        start_location = next_location\n",
    "    \n",
    "    return route"
   ]
  },
  {
   "cell_type": "code",
   "execution_count": 17,
   "metadata": {},
   "outputs": [],
   "source": [
    "class QAgent:\n",
    "  def __init__(self, alpha, gamma, location_to_state, actions, rewards, state_to_location, Q):  \n",
    "    self.gamma = gamma  \n",
    "    self.alpha = alpha \n",
    "\n",
    "    self.location_to_state = location_to_state\n",
    "    self.actions = actions\n",
    "    self.rewards = rewards\n",
    "    self.state_to_location = state_to_location\n",
    "\n",
    "    self.Q = Q\n",
    "\n",
    "  def training(self, start_location, end_location, iterations):\n",
    "\n",
    "    rewards_new = np.copy(self.rewards)\n",
    "\n",
    "    ending_state = self.location_to_state[end_location]\n",
    "    rewards_new[ending_state, ending_state] = 999\n",
    "\n",
    "    for i in range(iterations):\n",
    "        current_state = np.random.randint(0,9) \n",
    "        playable_actions = []\n",
    "\n",
    "        for j in range(9):\n",
    "            if rewards_new[current_state,j] > 0:\n",
    "                playable_actions.append(j)\n",
    "\n",
    "        next_state = np.random.choice(playable_actions)\n",
    "        TD = rewards_new[current_state,next_state] + self.gamma * self.Q[next_state, np.argmax(self.Q[next_state,])] -                                 self.Q[current_state,next_state]\n",
    "\n",
    "        self.Q[current_state,next_state] += self.alpha * TD\n",
    "\n",
    "    route = [start_location]\n",
    "    next_location = start_location\n",
    "\n",
    "    # Get the route \n",
    "    self.get_optimal_route(start_location, end_location, next_location, route, self.Q)\n",
    "\n",
    "  def get_optimal_route(self, start_location, end_location, next_location, route, Q):\n",
    "    while(next_location != end_location):\n",
    "        starting_state = self.location_to_state[start_location]\n",
    "        next_state = np.argmax(Q[starting_state,])\n",
    "        next_location = self.state_to_location[next_state]\n",
    "        route.append(next_location)\n",
    "        start_location = next_location\n",
    "\n",
    "    print(route)"
   ]
  },
  {
   "cell_type": "code",
   "execution_count": 18,
   "metadata": {},
   "outputs": [
    {
     "name": "stdout",
     "output_type": "stream",
     "text": [
      "['L9', 'L8', 'L5', 'L2', 'L1']\n"
     ]
    }
   ],
   "source": [
    "qagent = QAgent(alpha, gamma, location_to_state, actions, rewards,  state_to_location, Q)\n",
    "qagent.training('L9', 'L1', 1000)"
   ]
  },
  {
   "cell_type": "code",
   "execution_count": 19,
   "metadata": {},
   "outputs": [
    {
     "data": {
      "text/plain": [
       "array([[3995.99908894, 2249.49893394,    0.        ,    0.        ,\n",
       "           0.        ,    0.        ,    0.        ,    0.        ,\n",
       "           0.        ],\n",
       "       [2997.99925636,    0.        , 1688.12408633,    0.        ,\n",
       "        1688.12312436,    0.        ,    0.        ,    0.        ,\n",
       "           0.        ],\n",
       "       [   0.        , 2249.49902343,    0.        ,    0.        ,\n",
       "           0.        , 1267.0917666 ,    0.        ,    0.        ,\n",
       "           0.        ],\n",
       "       [   0.        ,    0.        ,    0.        ,    0.        ,\n",
       "           0.        ,    0.        ,  951.31828563,    0.        ,\n",
       "           0.        ],\n",
       "       [   0.        , 2249.49890638,    0.        ,    0.        ,\n",
       "           0.        ,    0.        ,    0.        , 1267.09221636,\n",
       "           0.        ],\n",
       "       [   0.        ,    0.        , 1688.12245796,    0.        ,\n",
       "           0.        ,    0.        ,    0.        ,    0.        ,\n",
       "           0.        ],\n",
       "       [   0.        ,    0.        ,    0.        ,  714.48871187,\n",
       "           0.        ,    0.        ,    0.        , 1267.09104754,\n",
       "           0.        ],\n",
       "       [   0.        ,    0.        ,    0.        ,    0.        ,\n",
       "        1688.12312434,    0.        ,  951.31827966,    0.        ,\n",
       "         951.31830572],\n",
       "       [   0.        ,    0.        ,    0.        ,    0.        ,\n",
       "           0.        ,    0.        ,    0.        , 1267.09234325,\n",
       "           0.        ]])"
      ]
     },
     "execution_count": 19,
     "metadata": {},
     "output_type": "execute_result"
    }
   ],
   "source": [
    "qagent.Q"
   ]
  },
  {
   "cell_type": "code",
   "execution_count": null,
   "metadata": {},
   "outputs": [],
   "source": []
  }
 ],
 "metadata": {
  "kernelspec": {
   "display_name": "csci4622",
   "language": "python",
   "name": "python3"
  },
  "language_info": {
   "codemirror_mode": {
    "name": "ipython",
    "version": 3
   },
   "file_extension": ".py",
   "mimetype": "text/x-python",
   "name": "python",
   "nbconvert_exporter": "python",
   "pygments_lexer": "ipython3",
   "version": "3.11.7"
  }
 },
 "nbformat": 4,
 "nbformat_minor": 2
}
